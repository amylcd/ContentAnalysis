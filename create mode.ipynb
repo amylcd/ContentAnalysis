{
 "cells": [
  {
   "cell_type": "code",
   "execution_count": 1,
   "id": "82cf36f5",
   "metadata": {},
   "outputs": [
    {
     "name": "stdout",
     "output_type": "stream",
     "text": [
      "Collecting pyreadstat\n",
      "  Downloading pyreadstat-1.2.6.tar.gz (539 kB)\n",
      "\u001b[2K     \u001b[90m━━━━━━━━━━━━━━━━━━━━━━━━━━━━━━━━━━━━━━━\u001b[0m \u001b[32m539.1/539.1 kB\u001b[0m \u001b[31m4.1 MB/s\u001b[0m eta \u001b[36m0:00:00\u001b[0m00:01\u001b[0m00:01\u001b[0m\n",
      "\u001b[?25h  Installing build dependencies ... \u001b[?25ldone\n",
      "\u001b[?25h  Getting requirements to build wheel ... \u001b[?25ldone\n",
      "\u001b[?25h  Preparing metadata (pyproject.toml) ... \u001b[?25ldone\n",
      "\u001b[?25hRequirement already satisfied: pandas>=1.2.0 in /Users/amydoerr/anaconda3/lib/python3.11/site-packages (from pyreadstat) (2.0.3)\n",
      "Requirement already satisfied: python-dateutil>=2.8.2 in /Users/amydoerr/anaconda3/lib/python3.11/site-packages (from pandas>=1.2.0->pyreadstat) (2.8.2)\n",
      "Requirement already satisfied: pytz>=2020.1 in /Users/amydoerr/anaconda3/lib/python3.11/site-packages (from pandas>=1.2.0->pyreadstat) (2023.3.post1)\n",
      "Requirement already satisfied: tzdata>=2022.1 in /Users/amydoerr/anaconda3/lib/python3.11/site-packages (from pandas>=1.2.0->pyreadstat) (2023.3)\n",
      "Requirement already satisfied: numpy>=1.21.0 in /Users/amydoerr/anaconda3/lib/python3.11/site-packages (from pandas>=1.2.0->pyreadstat) (1.24.3)\n",
      "Requirement already satisfied: six>=1.5 in /Users/amydoerr/anaconda3/lib/python3.11/site-packages (from python-dateutil>=2.8.2->pandas>=1.2.0->pyreadstat) (1.16.0)\n",
      "Building wheels for collected packages: pyreadstat\n",
      "  Building wheel for pyreadstat (pyproject.toml) ... \u001b[?25ldone\n",
      "\u001b[?25h  Created wheel for pyreadstat: filename=pyreadstat-1.2.6-cp311-cp311-macosx_10_9_x86_64.whl size=533003 sha256=bea7fded0c9a4d5f8f7e3a43f3a7fe39c1ea8bf11fde8ffad2a4e65c892ea17d\n",
      "  Stored in directory: /Users/amydoerr/Library/Caches/pip/wheels/96/d1/2c/bb1f09497fc02503c8b2877df2ed47ce8e0b2d8f056d22a2a8\n",
      "Successfully built pyreadstat\n",
      "Installing collected packages: pyreadstat\n",
      "Successfully installed pyreadstat-1.2.6\n",
      "Note: you may need to restart the kernel to use updated packages.\n"
     ]
    }
   ],
   "source": [
    "pip install pyreadstat\n"
   ]
  },
  {
   "cell_type": "code",
   "execution_count": 18,
   "id": "12a2a181",
   "metadata": {},
   "outputs": [
    {
     "name": "stdout",
     "output_type": "stream",
     "text": [
      "   A._CID  B._Lib_Con  C._MID  F1.1  F1.2  F1.3  G1.1  G1.2  G1.3  G1.4  H1.1  \\\n",
      "0     3.0         0.0  LIB012   1.0   1.0   0.0   0.0   0.0   0.0   0.0   0.0   \n",
      "1     3.0         0.0  LIB013   0.0   0.0   0.0   0.0   0.0   1.0   0.0   0.0   \n",
      "2     3.0         0.0  LIB014   0.0   1.0   0.0   0.0   0.0   0.0   0.0   0.0   \n",
      "3     3.0         0.0  LIB015   0.0   1.0   0.0   0.0   0.0   0.0   0.0   0.0   \n",
      "4     1.0         0.0  LIB012   0.0   1.0   0.0   0.0   0.0   0.0   1.0   0.0   \n",
      "\n",
      "   H1.2  I1.1  I1.2  \n",
      "0   0.0   2.0   0.0  \n",
      "1   0.0   3.0   4.0  \n",
      "2   0.0   0.0   0.0  \n",
      "3   0.0   0.0   0.0  \n",
      "4   0.0   2.0   3.0  \n"
     ]
    }
   ],
   "source": [
    "import pandas as pd\n",
    "import pyreadstat\n",
    "\n",
    "# Replace 'your_file.sav' with the path to your .sav file\n",
    "file_path = '/Users/amydoerr/Downloads/CA_Sets_SuperClean.sav'\n",
    "\n",
    "# Read the .sav file\n",
    "df, meta = pyreadstat.read_sav(file_path)\n",
    "\n",
    "# Convert to Pandas DataFrame\n",
    "df = pd.DataFrame(df)\n",
    "\n",
    "# Now you can work with the DataFrame\n",
    "print(df.head())\n"
   ]
  },
  {
   "cell_type": "code",
   "execution_count": 19,
   "id": "21974eb2",
   "metadata": {},
   "outputs": [
    {
     "name": "stdout",
     "output_type": "stream",
     "text": [
      "Index(['A._CID', 'B._Lib_Con', 'C._MID', 'F1.1', 'F1.2', 'F1.3', 'G1.1',\n",
      "       'G1.2', 'G1.3', 'G1.4', 'H1.1', 'H1.2', 'I1.1', 'I1.2'],\n",
      "      dtype='object')\n"
     ]
    }
   ],
   "source": [
    "import pandas as pd\n",
    "\n",
    "# Assuming your DataFrame is named 'df'\n",
    "variable_names = df.columns\n",
    "\n",
    "print(variable_names)\n"
   ]
  },
  {
   "cell_type": "code",
   "execution_count": 20,
   "id": "369e54dd",
   "metadata": {},
   "outputs": [
    {
     "name": "stdout",
     "output_type": "stream",
     "text": [
      "[3. 1. 2.]\n"
     ]
    }
   ],
   "source": [
    "# Assuming your DataFrame is named 'df' and the variable you're interested in is 'variable_name'\n",
    "variable_values = df['A._CID'].unique()\n",
    "\n",
    "print(variable_values)\n"
   ]
  },
  {
   "cell_type": "code",
   "execution_count": 21,
   "id": "59c821a1",
   "metadata": {},
   "outputs": [
    {
     "name": "stdout",
     "output_type": "stream",
     "text": [
      "     A._CID  B._Lib_Con  C._MID  F1.1  F1.2  F1.3  G1.1  G1.2  G1.3  G1.4  \\\n",
      "253     2.0         1.0  CON004   1.0   1.0   0.0   0.0   1.0   1.0   1.0   \n",
      "437     3.0         1.0  CON004   1.0   1.0   0.0   0.0   1.0   1.0   1.0   \n",
      "547     1.0         1.0  CON004   0.0   1.0   0.0   0.0   0.0   1.0   1.0   \n",
      "\n",
      "     H1.1  H1.2  I1.1  I1.2  \n",
      "253   0.0   0.0   0.0   0.0  \n",
      "437   0.0   0.0   0.0   0.0  \n",
      "547   0.0   0.0   0.0   0.0  \n"
     ]
    }
   ],
   "source": [
    "# Assuming your DataFrame is named df\n",
    "filtered_df = df[df['C._MID'] == 'CON004']\n",
    "\n",
    "print(filtered_df)\n"
   ]
  },
  {
   "cell_type": "code",
   "execution_count": null,
   "id": "499ae72d",
   "metadata": {},
   "outputs": [],
   "source": [
    "import pandas as pd\n",
    "\n",
    "# Assuming your DataFrame is named df\n",
    "\n",
    "# Function to calculate mode for each variable within each meme ID group\n",
    "def calculate_mode_for_variable(group):\n",
    "    modes = group.mode()\n",
    "    return modes.iloc[0] if not modes.empty else None\n",
    "\n",
    "# List of variables for which you want to calculate the mode\n",
    "variables = ['F1.1', 'F1.2', 'F1.3', 'G1.1', 'G1.2', 'G1.3', 'G1.4', 'H1.1', 'H1.2']\n",
    "\n",
    "# Group DataFrame by 'C._MID' (meme ID) and 'B._Lib_Con' and calculate mode for each variable within each group\n",
    "final_df = df.groupby(['C._MID', 'B._Lib_Con'])[variables].apply(calculate_mode_for_variable).reset_index()\n",
    "\n",
    "print(final_df)\n"
   ]
  },
  {
   "cell_type": "code",
   "execution_count": 23,
   "id": "c8d8517e",
   "metadata": {},
   "outputs": [],
   "source": [
    "# Assuming your filtered DataFrame is named filtered_df\n",
    "final_df.to_csv('final_df.csv', index=False)"
   ]
  },
  {
   "cell_type": "code",
   "execution_count": 24,
   "id": "d58ebd5e",
   "metadata": {},
   "outputs": [],
   "source": [
    "# Assuming your filtered DataFrame is named filtered_df\n",
    "final_df.to_excel('final_df.xlsx', index=False)\n"
   ]
  }
 ],
 "metadata": {
  "kernelspec": {
   "display_name": "Python 3 (ipykernel)",
   "language": "python",
   "name": "python3"
  },
  "language_info": {
   "codemirror_mode": {
    "name": "ipython",
    "version": 3
   },
   "file_extension": ".py",
   "mimetype": "text/x-python",
   "name": "python",
   "nbconvert_exporter": "python",
   "pygments_lexer": "ipython3",
   "version": "3.11.5"
  }
 },
 "nbformat": 4,
 "nbformat_minor": 5
}
