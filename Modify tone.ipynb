{
 "cells": [
  {
   "cell_type": "code",
   "execution_count": 1,
   "id": "d11476f8",
   "metadata": {},
   "outputs": [
    {
     "name": "stdout",
     "output_type": "stream",
     "text": [
      "   A._CID  B._Lib_Con  C._MID  F1.1  F1.2  F1.3  G1.1  G1.2  G1.3  G1.4  H1.1  \\\n",
      "0       3           0  LIB012     1     1     0     0     0     0     0     0   \n",
      "1       3           0  LIB013     0     0     0     0     0     1     0     0   \n",
      "2       3           0  LIB014     0     1     0     0     0     0     0     0   \n",
      "3       3           0  LIB015     0     1     0     0     0     0     0     0   \n",
      "4       1           0  LIB012     0     1     0     0     0     0     1     0   \n",
      "\n",
      "   H1.2  I1.1  I1.2  F1.4  \n",
      "0     0     2     0     1  \n",
      "1     0     3     4     1  \n",
      "2     0     0     0     1  \n",
      "3     0     0     0     1  \n",
      "4     0     2     3     1  \n"
     ]
    }
   ],
   "source": [
    "import pandas as pd\n",
    "\n",
    "# Path to your CSV file on your laptop\n",
    "file_path = '/Users/amydoerr/Downloads/ca_set.csv'  # Adjust this to the actual path\n",
    "\n",
    "# Load the CSV file into a DataFrame\n",
    "df = pd.read_csv(file_path)\n",
    "\n",
    "# Display the first few rows of the DataFrame to verify it's loaded correctly\n",
    "print(df.head())"
   ]
  },
  {
   "cell_type": "code",
   "execution_count": 2,
   "id": "5a759066",
   "metadata": {},
   "outputs": [
    {
     "name": "stdout",
     "output_type": "stream",
     "text": [
      "   CID  Lib_Con     MID  F1.1  F1.2  F1.3  G1.1  G1.2  G1.3  G1.4  H1.1  H1.2  \\\n",
      "0    3        0  LIB012     1     1     0     0     0     0     0     0     0   \n",
      "1    3        0  LIB013     0     0     0     0     0     1     0     0     0   \n",
      "2    3        0  LIB014     0     1     0     0     0     0     0     0     0   \n",
      "3    3        0  LIB015     0     1     0     0     0     0     0     0     0   \n",
      "4    1        0  LIB012     0     1     0     0     0     0     1     0     0   \n",
      "\n",
      "   I1.1  I1.2  F1.4  \n",
      "0     2     0     1  \n",
      "1     3     4     1  \n",
      "2     0     0     1  \n",
      "3     0     0     1  \n",
      "4     2     3     1  \n"
     ]
    }
   ],
   "source": [
    "# Dictionary mapping old column names to new ones\n",
    "rename_dict = {\n",
    "    'A._CID': 'CID',\n",
    "    'B._Lib_Con': 'Lib_Con',\n",
    "    'C._MID': 'MID'\n",
    "}\n",
    "\n",
    "# Rename the columns\n",
    "df.rename(columns=rename_dict, inplace=True)\n",
    "\n",
    "# Verify the changes\n",
    "print(df.head())\n"
   ]
  },
  {
   "cell_type": "code",
   "execution_count": 4,
   "id": "51c741cc",
   "metadata": {},
   "outputs": [
    {
     "name": "stdout",
     "output_type": "stream",
     "text": [
      "   CID  Lib_Con     MID  ElectionTheme  Internalaffairs  Externalaffairs  \\\n",
      "0    3        0  LIB012              1                1                0   \n",
      "1    3        0  LIB013              0                0                0   \n",
      "2    3        0  LIB014              0                1                0   \n",
      "3    3        0  LIB015              0                1                0   \n",
      "4    1        0  LIB012              0                1                0   \n",
      "\n",
      "   VisStereotype  TextStereotype  VisInsult  TextInsult  VisGlory  TextGlory  \\\n",
      "0              0               0          0           0         0          0   \n",
      "1              0               0          1           0         0          0   \n",
      "2              0               0          0           0         0          0   \n",
      "3              0               0          0           0         0          0   \n",
      "4              0               0          0           1         0          0   \n",
      "\n",
      "   TextualTone  VisualTone  F1.4  \n",
      "0            2           0     1  \n",
      "1            3           4     1  \n",
      "2            0           0     1  \n",
      "3            0           0     1  \n",
      "4            2           3     1  \n"
     ]
    }
   ],
   "source": [
    "# Dictionary mapping old column names to new ones\n",
    "rename_dict = {\n",
    "    'Mean_I1.1': 'Textual_Tone',\n",
    "    'Mean_I1.2': 'Visual_tone',\n",
    "    'F1.1': 'ElectionTheme',\n",
    "    'F1.2': 'Internalaffairs',\n",
    "    'F1.3': 'Externalaffairs',\n",
    "    'G1.1': 'VisStereotype',\n",
    "    'G1.2': 'TextStereotype',\n",
    "    'G1.3': 'VisInsult',\n",
    "    'G1.4': 'TextInsult',\n",
    "    'H1.1': 'VisGlory',\n",
    "    'H1.2': 'TextGlory',\n",
    "    'I1.1':'TextualTone',\n",
    "     'I1.2':'VisualTone',\n",
    "}\n",
    "\n",
    "# Rename the columns\n",
    "df.rename(columns=rename_dict, inplace=True)\n",
    "\n",
    "# Verify the changes\n",
    "print(df.head())\n"
   ]
  },
  {
   "cell_type": "code",
   "execution_count": 5,
   "id": "22e93d64",
   "metadata": {},
   "outputs": [],
   "source": [
    "import pandas as pd\n",
    "import numpy as np"
   ]
  },
  {
   "cell_type": "code",
   "execution_count": 7,
   "id": "88d3b17e",
   "metadata": {},
   "outputs": [
    {
     "name": "stdout",
     "output_type": "stream",
     "text": [
      "   CID  Lib_Con     MID  ElectionTheme  Internalaffairs  Externalaffairs  \\\n",
      "0    3        0  LIB012              1                1                0   \n",
      "1    3        0  LIB013              0                0                0   \n",
      "2    3        0  LIB014              0                1                0   \n",
      "3    3        0  LIB015              0                1                0   \n",
      "4    1        0  LIB012              0                1                0   \n",
      "\n",
      "   VisStereotype  TextStereotype  VisInsult  TextInsult  VisGlory  TextGlory  \\\n",
      "0              0               0          0           0         0          0   \n",
      "1              0               0          1           0         0          0   \n",
      "2              0               0          0           0         0          0   \n",
      "3              0               0          0           0         0          0   \n",
      "4              0               0          0           1         0          0   \n",
      "\n",
      "   TextualTone  VisualTone  F1.4  \n",
      "0            0           0     1  \n",
      "1            0           4     1  \n",
      "2           -1           0     1  \n",
      "3           -1           0     1  \n",
      "4            0           3     1  \n"
     ]
    }
   ],
   "source": [
    "# Convert 0s to -1s directly\n",
    "df.loc[df['TextualTone'] == 0, 'TextualTone'] = -1\n",
    "\n",
    "# Then, convert 2s, 3s, and 4s to 0s\n",
    "df.loc[df['TextualTone'].isin([2, 3, 4]), 'TextualTone'] = 0\n",
    "# Verify the changes\n",
    "print(df.head())"
   ]
  },
  {
   "cell_type": "code",
   "execution_count": 8,
   "id": "8e47f4a0",
   "metadata": {},
   "outputs": [
    {
     "name": "stdout",
     "output_type": "stream",
     "text": [
      "   CID  Lib_Con     MID  ElectionTheme  Internalaffairs  Externalaffairs  \\\n",
      "0    3        0  LIB012              1                1                0   \n",
      "1    3        0  LIB013              0                0                0   \n",
      "2    3        0  LIB014              0                1                0   \n",
      "3    3        0  LIB015              0                1                0   \n",
      "4    1        0  LIB012              0                1                0   \n",
      "\n",
      "   VisStereotype  TextStereotype  VisInsult  TextInsult  VisGlory  TextGlory  \\\n",
      "0              0               0          0           0         0          0   \n",
      "1              0               0          1           0         0          0   \n",
      "2              0               0          0           0         0          0   \n",
      "3              0               0          0           0         0          0   \n",
      "4              0               0          0           1         0          0   \n",
      "\n",
      "   TextualTone  VisualTone  F1.4  \n",
      "0            0          -1     1  \n",
      "1            0           0     1  \n",
      "2           -1          -1     1  \n",
      "3           -1          -1     1  \n",
      "4            0           0     1  \n"
     ]
    }
   ],
   "source": [
    "# Convert 0s to -1s directly\n",
    "df.loc[df['VisualTone'] == 0, 'VisualTone'] = -1\n",
    "\n",
    "# Then, convert 2s, 3s, and 4s to 0s\n",
    "df.loc[df['VisualTone'].isin([2, 3, 4]), 'VisualTone'] = 0\n",
    "# Verify the changes\n",
    "print(df.head())"
   ]
  },
  {
   "cell_type": "code",
   "execution_count": 9,
   "id": "18971d7d",
   "metadata": {},
   "outputs": [
    {
     "name": "stdout",
     "output_type": "stream",
     "text": [
      "   CID  Lib_Con     MID  TextualTone  VisualTone\n",
      "0    3        0  LIB012            0          -1\n",
      "1    3        0  LIB013            0           0\n",
      "2    3        0  LIB014           -1          -1\n",
      "3    3        0  LIB015           -1          -1\n",
      "4    1        0  LIB012            0           0\n"
     ]
    }
   ],
   "source": [
    "import pandas as pd\n",
    "\n",
    "# Assuming df is your original DataFrame\n",
    "# Specify the columns you want to keep\n",
    "columns_to_keep = ['CID', 'Lib_Con', 'MID', 'TextualTone', 'VisualTone']\n",
    "\n",
    "# Create a new DataFrame with only the specified columns\n",
    "new_df = df[columns_to_keep]\n",
    "\n",
    "# Display the first few rows of the new DataFrame to verify\n",
    "print(new_df.head())"
   ]
  },
  {
   "cell_type": "code",
   "execution_count": 10,
   "id": "4083a92a",
   "metadata": {},
   "outputs": [
    {
     "name": "stdout",
     "output_type": "stream",
     "text": [
      "      MID  Lib_Con  Mean_textualtone  Mean_visualtone\n",
      "0  LIB012        0          0.000000        -0.666667\n",
      "1  LIB013        0          0.000000         0.000000\n",
      "2  LIB014        0         -1.000000        -1.000000\n",
      "3  LIB015        0         -0.666667        -0.666667\n",
      "4  LIB016        0          0.000000        -0.666667\n"
     ]
    }
   ],
   "source": [
    "# Calculate the mean for 'I1.1' and 'I1.2' by grouping on 'MID'\n",
    "mean_tones = new_df.groupby('MID', as_index=False)[['TextualTone', 'VisualTone']].mean().rename(columns={'TextualTone': 'Mean_textualtone', 'VisualTone': 'Mean_visualtone'})\n",
    "\n",
    "# Merge these mean tones back with the original DataFrame to keep 'MID' and 'Lib_Con'\n",
    "# Ensure we're merging with unique combinations of 'MID' and 'Lib_Con' to avoid duplicating rows\n",
    "unique_mids_lib_con = new_df[['MID', 'Lib_Con']].drop_duplicates()\n",
    "result_df = pd.merge(unique_mids_lib_con, mean_tones, on='MID')\n",
    "\n",
    "# Display the resulting DataFrame to verify the outcome\n",
    "print(result_df.head())"
   ]
  },
  {
   "cell_type": "code",
   "execution_count": 11,
   "id": "8a8161ca",
   "metadata": {},
   "outputs": [
    {
     "name": "stdout",
     "output_type": "stream",
     "text": [
      "   C._MID  B._Lib_Con  F1.1  F1.2  F1.3  G1.1  G1.2  G1.3  G1.4  H1.1  H1.2\n",
      "0  CON001         1.0   1.0   1.0   0.0   0.0   0.0   0.0   0.0   0.0   0.0\n",
      "1  CON003         1.0   0.0   1.0   0.0   0.0   0.0   0.0   0.0   0.0   0.0\n",
      "2  CON004         1.0   1.0   1.0   0.0   0.0   1.0   1.0   1.0   0.0   0.0\n",
      "3  CON005         1.0   0.0   1.0   0.0   0.0   0.0   0.0   1.0   0.0   0.0\n",
      "4  CON006         1.0   0.0   1.0   0.0   0.0   0.0   0.0   1.0   0.0   0.0\n"
     ]
    }
   ],
   "source": [
    "import pandas as pd\n",
    "\n",
    "# Path to your CSV file on your laptop\n",
    "n_file_path = '/Users/amydoerr/Downloads/final_df.csv'  # Adjust this to the actual path\n",
    "\n",
    "# Load the CSV file into a DataFrame\n",
    "mode_df = pd.read_csv(n_file_path)\n",
    "\n",
    "# Display the first few rows of the DataFrame to verify it's loaded correctly\n",
    "print(mode_df.head())\n"
   ]
  },
  {
   "cell_type": "code",
   "execution_count": 12,
   "id": "6f328124",
   "metadata": {},
   "outputs": [
    {
     "name": "stdout",
     "output_type": "stream",
     "text": [
      "      MID  Lib_Con  F1.1  F1.2  F1.3  G1.1  G1.2  G1.3  G1.4  H1.1  H1.2\n",
      "0  CON001      1.0   1.0   1.0   0.0   0.0   0.0   0.0   0.0   0.0   0.0\n",
      "1  CON003      1.0   0.0   1.0   0.0   0.0   0.0   0.0   0.0   0.0   0.0\n",
      "2  CON004      1.0   1.0   1.0   0.0   0.0   1.0   1.0   1.0   0.0   0.0\n",
      "3  CON005      1.0   0.0   1.0   0.0   0.0   0.0   0.0   1.0   0.0   0.0\n",
      "4  CON006      1.0   0.0   1.0   0.0   0.0   0.0   0.0   1.0   0.0   0.0\n"
     ]
    }
   ],
   "source": [
    "#Dictionary mapping old column names to new ones\n",
    "rename_dict = {\n",
    "    'B._Lib_Con': 'Lib_Con',\n",
    "    'C._MID': 'MID'\n",
    "}\n",
    "\n",
    "# Rename the columns\n",
    "mode_df.rename(columns=rename_dict, inplace=True)\n",
    "\n",
    "# Verify the changes\n",
    "print(mode_df.head())\n"
   ]
  },
  {
   "cell_type": "code",
   "execution_count": 13,
   "id": "4cae2893",
   "metadata": {},
   "outputs": [
    {
     "name": "stdout",
     "output_type": "stream",
     "text": [
      "      MID  Lib_Con  F1.1  F1.2  F1.3  G1.1  G1.2  G1.3  G1.4  H1.1  H1.2  \\\n",
      "0  CON001      1.0   1.0   1.0   0.0   0.0   0.0   0.0   0.0   0.0   0.0   \n",
      "1  CON003      1.0   0.0   1.0   0.0   0.0   0.0   0.0   0.0   0.0   0.0   \n",
      "2  CON004      1.0   1.0   1.0   0.0   0.0   1.0   1.0   1.0   0.0   0.0   \n",
      "3  CON005      1.0   0.0   1.0   0.0   0.0   0.0   0.0   1.0   0.0   0.0   \n",
      "4  CON006      1.0   0.0   1.0   0.0   0.0   0.0   0.0   1.0   0.0   0.0   \n",
      "\n",
      "   Mean_textualtone  Mean_visualtone  \n",
      "0              -1.0             -1.0  \n",
      "1               1.0              1.0  \n",
      "2              -1.0             -1.0  \n",
      "3               1.0             -1.0  \n",
      "4               0.0             -1.0  \n"
     ]
    }
   ],
   "source": [
    "# Merging on both 'MID' and 'Lib_Con' assuming 'Lib_Con' values should match for the merge to happen\n",
    "merged_df = pd.merge(mode_df, result_df, on=['MID', 'Lib_Con'])\n",
    "\n",
    "# Display the first few rows of the merged DataFrame\n",
    "print(merged_df.head())\n"
   ]
  },
  {
   "cell_type": "code",
   "execution_count": 14,
   "id": "a2a0dcc4",
   "metadata": {},
   "outputs": [],
   "source": [
    "# Save the merged DataFrame to a CSV file\n",
    "merged_df.to_csv('Correct_full_df_CA.csv', index=False)\n"
   ]
  },
  {
   "cell_type": "code",
   "execution_count": null,
   "id": "839432cf",
   "metadata": {},
   "outputs": [],
   "source": []
  }
 ],
 "metadata": {
  "kernelspec": {
   "display_name": "Python 3 (ipykernel)",
   "language": "python",
   "name": "python3"
  },
  "language_info": {
   "codemirror_mode": {
    "name": "ipython",
    "version": 3
   },
   "file_extension": ".py",
   "mimetype": "text/x-python",
   "name": "python",
   "nbconvert_exporter": "python",
   "pygments_lexer": "ipython3",
   "version": "3.11.5"
  }
 },
 "nbformat": 4,
 "nbformat_minor": 5
}
